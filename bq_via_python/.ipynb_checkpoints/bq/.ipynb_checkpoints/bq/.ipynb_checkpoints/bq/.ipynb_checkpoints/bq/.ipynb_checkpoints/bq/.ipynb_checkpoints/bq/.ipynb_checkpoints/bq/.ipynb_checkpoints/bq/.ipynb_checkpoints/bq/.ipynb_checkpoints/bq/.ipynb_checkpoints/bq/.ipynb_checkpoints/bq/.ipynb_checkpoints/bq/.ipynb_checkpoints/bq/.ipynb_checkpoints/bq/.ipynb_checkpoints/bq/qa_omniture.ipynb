{
 "cells": [
  {
   "cell_type": "code",
   "execution_count": 1,
   "metadata": {
    "collapsed": true
   },
   "outputs": [],
   "source": [
    "from google.cloud.bigquery import *"
   ]
  },
  {
   "cell_type": "code",
   "execution_count": 2,
   "metadata": {
    "collapsed": true
   },
   "outputs": [],
   "source": [
    "client = Client('djomniture')"
   ]
  },
  {
   "cell_type": "code",
   "execution_count": 3,
   "metadata": {
    "collapsed": true
   },
   "outputs": [],
   "source": [
    "omniture_dataset_list = [x for x in client.list_datasets() if x.dataset_id.startswith('cipomniture_')]\n",
    "old_omniture_dataset_list = [x for x in omniture_dataset_list if not x.dataset_id.startswith('cipomniture_test')]\n",
    "new_omniture_dataset_list = [x for x in omniture_dataset_list if x.dataset_id.startswith('cipomniture_test')]"
   ]
  },
  {
   "cell_type": "code",
   "execution_count": 6,
   "metadata": {
    "collapsed": false
   },
   "outputs": [
    {
     "name": "stdout",
     "output_type": "stream",
     "text": [
      "New table has 100.000016196 % of the rows of old table for product cipomniture_djappbarrons\n",
      "New table has 100.000146442 % of the rows of old table for product cipomniture_djappfactiva\n",
      "New table has 100.000159245 % of the rows of old table for product cipomniture_djappwsj\n",
      "New table has 100.0 % of the rows of old table for product cipomniture_djbarronsandroid\n",
      "New table has 100.0 % of the rows of old table for product cipomniture_djbarronsiphone\n",
      "New table has 100.001024275 % of the rows of old table for product cipomniture_djcommerce\n",
      "New table has 98.9550045584 % of the rows of old table for product cipomniture_djfactiva\n",
      "New table has 86.8222640599 % of the rows of old table for product cipomniture_djglobal\n",
      "New table has 99.9999347941 % of the rows of old table for product cipomniture_djmansionglobal\n",
      "New table has 99.9981703747 % of the rows of old table for product cipomniture_djsymphony\n",
      "New table has 100.02593361 % of the rows of old table for product cipomniture_djwsjandroidphoneuniversal\n",
      "New table has 100.042906792 % of the rows of old table for product cipomniture_djwsjandroidtab\n",
      "New table has 99.9889900251 % of the rows of old table for product cipomniture_djwsjipad\n",
      "New table has 99.9608586901 % of the rows of old table for product cipomniture_djwsjiphone\n",
      "New table has 100.001857123 % of the rows of old table for product cipomniture_factivadjnewsplusprod\n",
      "New table has 100.0 % of the rows of old table for product cipomniture_factivaprivatemarkets_prod\n"
     ]
    }
   ],
   "source": [
    "table_id = '2019_01'\n",
    "\n",
    "for new_dataset in new_omniture_dataset_list:\n",
    "    product = new_dataset.dataset_id.replace('_test', '')\n",
    "    old_dataset = [x for x in old_omniture_dataset_list if x.dataset_id == product][0]\n",
    "    \n",
    "    new_table = client.get_table(new_dataset.table(table_id))\n",
    "    old_table = client.get_table(old_dataset.table(table_id))\n",
    "    \n",
    "    offset = (float(new_table.num_rows) / float(old_table.num_rows)) * 100\n",
    "    \n",
    "    print \"New table has {0} % of the rows of old table for product {1}\".format(offset, product)\n",
    "    \n",
    "    \n",
    "    "
   ]
  },
  {
   "cell_type": "code",
   "execution_count": null,
   "metadata": {
    "collapsed": true
   },
   "outputs": [],
   "source": []
  }
 ],
 "metadata": {
  "kernelspec": {
   "display_name": "insights-pipelines",
   "language": "python",
   "name": "insights-pipelines"
  },
  "language_info": {
   "codemirror_mode": {
    "name": "ipython",
    "version": 2
   },
   "file_extension": ".py",
   "mimetype": "text/x-python",
   "name": "python",
   "nbconvert_exporter": "python",
   "pygments_lexer": "ipython2",
   "version": "2.7.10"
  }
 },
 "nbformat": 4,
 "nbformat_minor": 2
}
