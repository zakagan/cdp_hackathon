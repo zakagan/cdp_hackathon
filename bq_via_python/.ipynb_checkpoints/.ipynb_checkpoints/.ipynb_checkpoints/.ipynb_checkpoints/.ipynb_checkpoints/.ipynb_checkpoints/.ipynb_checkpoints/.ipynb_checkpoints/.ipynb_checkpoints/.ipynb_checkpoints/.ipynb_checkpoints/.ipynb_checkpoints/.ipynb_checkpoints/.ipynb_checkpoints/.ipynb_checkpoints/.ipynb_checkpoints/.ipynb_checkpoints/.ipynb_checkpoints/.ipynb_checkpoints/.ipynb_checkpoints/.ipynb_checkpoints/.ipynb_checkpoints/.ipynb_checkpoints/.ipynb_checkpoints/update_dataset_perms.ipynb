{
 "cells": [
  {
   "cell_type": "code",
   "execution_count": 36,
   "metadata": {
    "collapsed": true,
    "deletable": true,
    "editable": true
   },
   "outputs": [],
   "source": [
    "from google.cloud.bigquery import *"
   ]
  },
  {
   "cell_type": "code",
   "execution_count": 37,
   "metadata": {
    "collapsed": true,
    "deletable": true,
    "editable": true
   },
   "outputs": [],
   "source": [
    "client = Client('djomniture')"
   ]
  },
  {
   "cell_type": "code",
   "execution_count": 38,
   "metadata": {
    "collapsed": false
   },
   "outputs": [],
   "source": [
    "# apparently getting dataset ref first is best practice cuz that's what's documented\n",
    "# this works tho\n",
    "ds = client.get_dataset('ADW_DW_TARGET')\n",
    "\n",
    "# backup\n",
    "original_perms = ds.access_entries"
   ]
  },
  {
   "cell_type": "code",
   "execution_count": 39,
   "metadata": {
    "collapsed": false
   },
   "outputs": [],
   "source": [
    "synhub_prod_access = AccessEntry('WRITER', 'userByEmail', 'djsyndicationhub-prod@appspot.gserviceaccount.com')\n",
    "\n",
    "# update dataset locally by overwriting it's access entries via the read-modify-write cycle\n",
    "perms = ds.access_entries\n",
    "perms.append(synhub_prod_access)\n",
    "ds.access_entries = perms"
   ]
  },
  {
   "cell_type": "code",
   "execution_count": 40,
   "metadata": {
    "collapsed": false
   },
   "outputs": [
    {
     "data": {
      "text/plain": [
       "[<AccessEntry: role=WRITER, specialGroup=projectWriters>,\n",
       " <AccessEntry: role=WRITER, userByEmail=djsyndicationhub-prod@appspot.gserviceaccount.com>,\n",
       " <AccessEntry: role=WRITER, userByEmail=xuan.crandall@dowjones.com>,\n",
       " <AccessEntry: role=OWNER, specialGroup=projectOwners>,\n",
       " <AccessEntry: role=OWNER, userByEmail=356450068732-1s5v96k0v21hhf6q7joii1jpcff3e2c5@developer.gserviceaccount.com>,\n",
       " <AccessEntry: role=OWNER, userByEmail=356450068732-36ts06d32i9de5574ig33n25124smosu@developer.gserviceaccount.com>,\n",
       " <AccessEntry: role=READER, specialGroup=projectReaders>]"
      ]
     },
     "execution_count": 40,
     "metadata": {},
     "output_type": "execute_result"
    }
   ],
   "source": [
    "# apply update to remote dataset via patch\n",
    "updated_ds = client.update_dataset(ds, [\"access_entries\"])\n",
    "updated_ds.access_entries"
   ]
  },
  {
   "cell_type": "code",
   "execution_count": 41,
   "metadata": {
    "collapsed": true
   },
   "outputs": [],
   "source": [
    "def add_access_to_dataset(dataset, new_access_entry):\n",
    "    perms = dataset.access_entries\n",
    "    perms.append(new_access_entry)\n",
    "    dataset.access_entries = perms\n",
    "    return client.update_dataset(dataset, [\"access_entries\"])"
   ]
  },
  {
   "cell_type": "code",
   "execution_count": 42,
   "metadata": {
    "collapsed": true
   },
   "outputs": [],
   "source": [
    "def add_access_to_datasets(datasets, new_access_entry):\n",
    "    [add_access_to_dataset(x, new_access_entry) for x in datasets]"
   ]
  },
  {
   "cell_type": "code",
   "execution_count": 51,
   "metadata": {
    "collapsed": false
   },
   "outputs": [],
   "source": [
    "edw_dataset_refs = [x.reference for x in client.list_datasets() if x.dataset_id.startswith('EDW_')]\n",
    "edw_datasets = [client.get_dataset(x) for x in edw_dataset_refs]\n",
    "\n",
    "# backup\n",
    "old_dataset_perms = [ds.access_entries for ds in edw_datasets]\n",
    "\n",
    "synhub_prod_perms = AccessEntry('WRITER', 'userByEmail', 'djsyndicationhub-prod@appspot.gserviceaccount.com')\n",
    "\n",
    "add_access_to_datasets(edw_datasets, synhub_prod_perms)"
   ]
  },
  {
   "cell_type": "code",
   "execution_count": null,
   "metadata": {
    "collapsed": true
   },
   "outputs": [],
   "source": []
  }
 ],
 "metadata": {
  "kernelspec": {
   "display_name": "insights-pipelines",
   "language": "python",
   "name": "insights-pipelines"
  },
  "language_info": {
   "codemirror_mode": {
    "name": "ipython",
    "version": 2
   },
   "file_extension": ".py",
   "mimetype": "text/x-python",
   "name": "python",
   "nbconvert_exporter": "python",
   "pygments_lexer": "ipython2",
   "version": "2.7.10"
  }
 },
 "nbformat": 4,
 "nbformat_minor": 2
}
